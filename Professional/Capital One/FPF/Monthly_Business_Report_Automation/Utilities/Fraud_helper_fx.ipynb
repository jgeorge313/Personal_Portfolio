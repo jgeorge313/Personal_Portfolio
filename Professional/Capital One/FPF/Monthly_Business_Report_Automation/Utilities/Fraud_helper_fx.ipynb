{
 "cells": [
  {
   "cell_type": "markdown",
   "metadata": {},
   "source": [
    "# Fraud Helper FX\n",
    "\n",
    "Is a set of functions that has been passed amongst Fraud Business Analysts and Data Scientists to simplify data-handling and connectivity processes. \n",
    "\n"
   ]
  },
  {
   "cell_type": "code",
   "execution_count": null,
   "metadata": {},
   "outputs": [],
   "source": [
    "def sf_load_query(sql):\n",
    "    ### create a command to query data from snowflake, importing a sql string\n",
    "    df_snow = (spark.read.format(\"net.snowflake.spark.snowflake\")\n",
    "              .options(**sfOptions)\n",
    "              .option(\"query\",sql).load())\n",
    "    return df_snow\n",
    "    "
   ]
  },
  {
   "cell_type": "code",
   "execution_count": null,
   "metadata": {},
   "outputs": [],
   "source": [
    "def sf_multi_load_query(sql, num_queries):\n",
    "    ### create a command to run multiple sql queries represented as a string data type\n",
    "    for i in range(0, num_queries):\n",
    "        (spark.read.format(\"net.snowflake.spark.snowflake\")\n",
    "              .options(**sfOptions)\n",
    "              .option(\"query\",sql).load())\n",
    "    return df_snow"
   ]
  },
  {
   "cell_type": "code",
   "execution_count": 1,
   "metadata": {},
   "outputs": [],
   "source": [
    "def pd_sf_load_query(sql):\n",
    "    ###convert spark dataframes as a result of pulling from snowflake to pandas and easier data wrangling\n",
    "    return sf_load_query(sql).toPandas()"
   ]
  },
  {
   "cell_type": "code",
   "execution_count": null,
   "metadata": {},
   "outputs": [],
   "source": [
    "def sf_write(dataframe, table_name, SNOWFLAKE_SOURCE_NAME, sfOptions):\n",
    "    ### publish a dataframe to snowflake \n",
    "    dataframe.write.format(SNOWFLAKE_SOURCE_NAME).mode(\"overwrite\").options(**sfOptions).option(\"dbtable\", table_name).save()"
   ]
  }
 ],
 "metadata": {
  "kernelspec": {
   "display_name": "Python 3",
   "language": "python",
   "name": "python3"
  },
  "language_info": {
   "codemirror_mode": {
    "name": "ipython",
    "version": 3
   },
   "file_extension": ".py",
   "mimetype": "text/x-python",
   "name": "python",
   "nbconvert_exporter": "python",
   "pygments_lexer": "ipython3",
   "version": "3.7.3"
  }
 },
 "nbformat": 4,
 "nbformat_minor": 2
}
