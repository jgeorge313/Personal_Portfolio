{
 "cells": [
  {
   "cell_type": "markdown",
   "metadata": {},
   "source": [
    "# Defense Performance\n",
    "\n",
    "The Defense Performance script pulls from tables built in **Defense Performance** in order to create monthly views of Fraud Defense Performances, split by various dimmensions that are important when understanding performance.\n",
    "\n",
    "\n",
    "Due to copyright reasons, the code has been largely modified and generalized so that code is vague and not revealing of corporate information. However, my hope is the audience an understand why the script is ordered in the way it is.\n",
    "\n",
    "The script is highly similar to the Fraud Losses Graphs script, given the overlap in processes. \n",
    "\n",
    "## Script Outline\n",
    "\n",
    "The script is organized as follows:\n",
    "\n",
    "        1.Set-Up (imports, connections, creating variables)\n",
    "        2.Establishing Unit Test\n",
    "        3.SQL to extract data\n",
    "        4.Data formatting through Pandas\n",
    "        5.Slide Creation\n",
    "        6.Unit test execution"
   ]
  },
  {
   "cell_type": "markdown",
   "metadata": {},
   "source": [
    "\n",
    "## Set-Up Explanation\n",
    "\n",
    "In order to successfully run this script there are a number of processes that must be done in order to connect to the data and run code. They are\n",
    "\n",
    "        Running the credentials file\n",
    "        Running utility scripts\n",
    "        Install the Capital One built package pptmaker\n",
    "        Importing packages\n",
    "        Creating useful variables"
   ]
  },
  {
   "cell_type": "code",
   "execution_count": 2,
   "metadata": {},
   "outputs": [
    {
     "name": "stderr",
     "output_type": "stream",
     "text": [
      "ERROR:root:File `'Users/[EID]/creds.py'` not found.\n"
     ]
    }
   ],
   "source": [
    "#Step 1, run credentials files to connect to Capital One's Data infrastructure\n",
    "%run \"Users/[EID]/creds\"\n",
    "\n",
    "#If you are cloning this repository you will have to change the above to speciy your EID"
   ]
  },
  {
   "cell_type": "code",
   "execution_count": null,
   "metadata": {},
   "outputs": [],
   "source": [
    "#Step 2, run helpful utility scripts that predefine functions used throughout the script\n",
    "%run \"./Utilities/fraud_helper_fx\""
   ]
  },
  {
   "cell_type": "code",
   "execution_count": null,
   "metadata": {},
   "outputs": [],
   "source": [
    "#Step 3, install Capital One internally created package that can create a .pptx file of graphs/tables\n",
    "dbutils.library.installPyPi(\"pptmaker\", repo='....')"
   ]
  },
  {
   "cell_type": "code",
   "execution_count": 2,
   "metadata": {},
   "outputs": [],
   "source": [
    "#Step 4, import packages and create helpful variables\n",
    "\n",
    "from pptmaker import pptMaker\n",
    "import pyspark.sql.functions as F\n",
    "from pyspark.sql import DataFrameStatFunctions as FS\n",
    "from pyspark.sql.functions import *\n",
    "from pyspark.sql.types import *\n",
    "import requests\n",
    "import pandas as pd\n",
    "import numpy as np\n",
    "from datetime import datetime, timedelta\n",
    "from dateutil.relativedelta import relativedelta\n",
    "import re\n",
    "import json\n",
    "import pytz\n",
    "import os.path\n",
    "from pytz import timezone"
   ]
  },
  {
   "cell_type": "code",
   "execution_count": null,
   "metadata": {},
   "outputs": [],
   "source": [
    "#set up connection to snowflake so we can access productionized data\n",
    "snowflake_source_name = \"net.snowflake.spark.snowflake\"\n",
    "sfOptions = {\n",
    "    \"sfUrl\":\"...\",\n",
    "    \"sfUser\":username, #accessed from running creds file\n",
    "    \"sfPassword\":password,#accessed from running creds file\n",
    "    \"sfDatabase\":\"...\",\n",
    "    \"sfSchema\":\"USER_{}\".format(username),\n",
    "}\n",
    "\n",
    "Utils = spark.jvm.net.snowflake.spark.snowflake.Utils"
   ]
  },
  {
   "cell_type": "markdown",
   "metadata": {},
   "source": [
    "## Unit Test Explanation\n",
    "\n",
    "As mentioned throughout the repository, the \"unit test\" concept allows analysts to run just a single script and as an output receive just that script's outputted graphs. \n",
    "\n",
    "It's incredibly useful when debugging a singular script in the process of forming the entire MBR.\n",
    "\n",
    "To create the unit test parameter, we establish a widget in databricks with the command below:\n",
    "\n",
    "Since this script runs after the fraud_losses script in the trigger script, we don't want to create a ppt object unless our\n",
    "trigger script is set to _yes_"
   ]
  },
  {
   "cell_type": "code",
   "execution_count": 1,
   "metadata": {},
   "outputs": [
    {
     "ename": "NameError",
     "evalue": "name 'dbutils' is not defined",
     "output_type": "error",
     "traceback": [
      "\u001b[1;31m---------------------------------------------------------------------------\u001b[0m",
      "\u001b[1;31mNameError\u001b[0m                                 Traceback (most recent call last)",
      "\u001b[1;32m<ipython-input-1-b1562af37ca3>\u001b[0m in \u001b[0;36m<module>\u001b[1;34m\u001b[0m\n\u001b[1;32m----> 1\u001b[1;33m \u001b[0munit_test\u001b[0m \u001b[1;33m=\u001b[0m \u001b[0mdbutils\u001b[0m\u001b[1;33m.\u001b[0m\u001b[0mwidgets\u001b[0m\u001b[1;33m.\u001b[0m\u001b[0mtext\u001b[0m\u001b[1;33m(\u001b[0m\u001b[1;34m\"unit_test\"\u001b[0m\u001b[1;33m,\u001b[0m \u001b[1;34m'type Y for unit test'\u001b[0m\u001b[1;33m)\u001b[0m\u001b[1;33m\u001b[0m\u001b[1;33m\u001b[0m\u001b[0m\n\u001b[0m\u001b[0;32m      2\u001b[0m \u001b[1;33m\u001b[0m\u001b[0m\n\u001b[0;32m      3\u001b[0m \u001b[1;32mif\u001b[0m \u001b[0munit_test\u001b[0m \u001b[1;32min\u001b[0m \u001b[0munit_test_acpt_values\u001b[0m\u001b[1;33m:\u001b[0m\u001b[1;33m\u001b[0m\u001b[1;33m\u001b[0m\u001b[0m\n\u001b[0;32m      4\u001b[0m     \u001b[0mppt\u001b[0m \u001b[1;33m=\u001b[0m \u001b[0mpptMaker\u001b[0m\u001b[1;33m.\u001b[0m\u001b[0mpptMaker\u001b[0m\u001b[1;33m(\u001b[0m\u001b[1;33m)\u001b[0m\u001b[1;33m\u001b[0m\u001b[1;33m\u001b[0m\u001b[0m\n",
      "\u001b[1;31mNameError\u001b[0m: name 'dbutils' is not defined"
     ]
    }
   ],
   "source": [
    "unit_test = dbutils.widgets.text(\"unit_test\", 'type Y for unit test')\n",
    "\n",
    "if unit_test in unit_test_acpt_values:\n",
    "    ppt = pptMaker.pptMaker()"
   ]
  },
  {
   "cell_type": "markdown",
   "metadata": {},
   "source": [
    "# Data Extraction\n",
    "\n",
    "To get various graphs in the format that the team looks at them each month, I run the following SQL queries in databricks. The output of these are Spark data frames oriented in a wide manner. I convert the Spark Dataframe to a Pandas dataframe and then begin data formatting using Pandas.\n",
    "\n",
    "## Views of interest:\n",
    "\n",
    "        Case Volumes by defense\n",
    "        Hit Rate by defense\n",
    "        \n",
    "The actual script contains far more views than this, but has been simplified for educational purposes."
   ]
  },
  {
   "cell_type": "markdown",
   "metadata": {},
   "source": [
    "### Defense Case Volumes"
   ]
  },
  {
   "cell_type": "code",
   "execution_count": null,
   "metadata": {},
   "outputs": [],
   "source": [
    "#SQL to pull losses from three core segments\n",
    "def_vol_chart_sql = \"\"\"select case_month, defense, case_size from lab_fpf.case_size\"\"\"\n",
    "\n",
    "#pull data from snowflake, converting Spark Dataframe to pandas\n",
    "def_vol_chart_pdf = sf_load_query(fraud_loss_chart_sql).toPandas()\n",
    "\n",
    "#convert case month to datetime\n",
    "def_vol_chart_pdf['case_month'] = pd.to_datetime(def_vol_chart_pdf['case_month'])\n",
    "\n",
    "#format date\n",
    "def_vol_chart_pdf['Formatted_Case_Month'] = def_vol_chart_pdf['case_month'].apply(lambda x:x.strftime('%b-%y'))\n"
   ]
  },
  {
   "cell_type": "code",
   "execution_count": null,
   "metadata": {},
   "outputs": [],
   "source": [
    "#create variables for the month over month table\n",
    "last_month = today-dateutil.relativedelta.relativedelta(months=1).replace(day=1)\n",
    "two_months_ago = date - dateutil.relativedelta.relativedelta(months = 1)\n",
    "\n",
    "#get data for relevant time needed for month over month performance percent difference table\n",
    "table_df = def_vol_chart_pdf.loc[(def_vol_chart_pdf['case_month']==two_months_ago) | (def_vol_chart_pdf['case_month']==last_month)]"
   ]
  },
  {
   "cell_type": "markdown",
   "metadata": {},
   "source": [
    "## Hit Rate by defense"
   ]
  },
  {
   "cell_type": "code",
   "execution_count": null,
   "metadata": {},
   "outputs": [],
   "source": [
    "#this one is easy due to how we made the table!\n",
    "hitrate_pdf = sf_load_query('''select case_month\n",
    "                                    ,defense\n",
    "                                    ,fraud_count\n",
    "                                    ,case_size\n",
    "                                    ,hit_rate\n",
    "                                    from lab_fpf.df_hitrate_graph''').toPandas()\n",
    "\n",
    "##format month into text\n",
    "hitrate_pdf['formatted_case_month'] = hitrate_pdf['case_month'].apply(lambda x:x.strftime('%b-%y'))\n"
   ]
  },
  {
   "cell_type": "code",
   "execution_count": null,
   "metadata": {},
   "outputs": [],
   "source": [
    "#get data for relevant time needed for month over month performance percent difference table\n",
    "hit_rate_table = hitrate_pdf.loc[(hitrate_pdf['case_month']==two_months_ago) | (hit_rate_pdf['case_month']==last_month)]"
   ]
  },
  {
   "cell_type": "markdown",
   "metadata": {},
   "source": [
    "### Slide Creation\n",
    "\n",
    "With our tables and charts, we can create our graphs. We first need to sort the date axis appropriately and then we can create the slides"
   ]
  },
  {
   "cell_type": "code",
   "execution_count": null,
   "metadata": {},
   "outputs": [],
   "source": [
    "#grab date values used in x-axis of graphs and sort them chronologically\n",
    "date_format_list = def_vol_chart_pdf['Formatted_Chargeoff_Month'].unique().tolist()\n",
    "date_format_list.sort(key= lambda date: datetime.strptime(date, '%b-%y'))"
   ]
  },
  {
   "cell_type": "code",
   "execution_count": null,
   "metadata": {},
   "outputs": [],
   "source": [
    "#create defense volume chart\n",
    "def_vol_graph = ppt.createChart(def_vol_chart_pdf #pandas dataframe input\n",
    "                               ,metric = 'case_size' #y value for graphs\n",
    "                               ,x_axis = 'Formatted_Case_Month' #x-axis\n",
    "                               ,splitter = 'defense' #different colors\n",
    "                               ,chart_type = 'Line' #graph type\n",
    "                               ,x_sort = date_format_list #order of x axis\n",
    "                               ,chart_name = 'Fraud Defense Volume'\n",
    "                               ,chart_sub_name = 'By Defense by Case Month'\n",
    "                               ,x_label = 'Case Month'\n",
    "                               )\n",
    "\n",
    "def_volume_table = ppt.createTable(create_month_over_month_percents_fraud_defenses(table_df, 'case_size'))\n",
    "\n",
    "##ppt.createSlide takes in a list of charts, a list of tables, the slide header, and any footnote text\n",
    "defense_volume_slide = ppt.createSlide(charts = [def_vol_graph], #list of charts to put in the graph\n",
    "                                      tables = [def_volume_table],\n",
    "                                      slide_name = 'Looking at defense activity',\n",
    "                                    notes = 'Person of Contact: Joby George' )"
   ]
  },
  {
   "cell_type": "code",
   "execution_count": null,
   "metadata": {},
   "outputs": [],
   "source": [
    "#create hit rate chart\n",
    "hit_rate_graph = ppt.createChart(hitrate_pdf #pandas dataframe input\n",
    "                               ,metric = 'hit_rate' #y value for graphs\n",
    "                               ,x_axis = 'Formatted_Case_Month' #x-axis\n",
    "                               ,splitter = 'defense' #different colors\n",
    "                               ,chart_type = 'Line' #graph type\n",
    "                               ,x_sort = date_format_list #order of x axis\n",
    "                               ,chart_name = 'Fraud Hit Rate Percentage'\n",
    "                               ,chart_sub_name = 'By Defense by Case Month'\n",
    "                               ,x_label = 'Case Month'\n",
    "                               )\n",
    "\n",
    "hit_rate_table = ppt.createTable(create_month_over_month_percents_fraud_defenses(hit_rate_table, 'hit_rate'))\n",
    "\n",
    "##ppt.createSlide takes in a list of charts, a list of tables, the slide header, and any footnote text\n",
    "hit_rate_slide = ppt.createSlide(charts = [hit_rate_graph], #list of charts to put in the graph\n",
    "                                      tables = [hit_rate_slide],\n",
    "                                      slide_name = 'Looking at defense performance',\n",
    "                                    notes = 'Person of Contact: Joby George' )"
   ]
  },
  {
   "cell_type": "markdown",
   "metadata": {},
   "source": [
    "## Unit Test Execution\n",
    "\n",
    "To run this script as a stand-alone component from the trigger script, I wrote a simple if statement that looks for the value of the variable unit_test, which was pass as a parameter in the trigger script\n",
    "\n",
    "If the unit test is in one of the accepted values, the deck is sent out to recipients, if it is not, the slides remain a part of the ppt object, until they are finally sent out in the last command of the trigger script"
   ]
  },
  {
   "cell_type": "code",
   "execution_count": null,
   "metadata": {},
   "outputs": [],
   "source": [
    "if unit_test in unit_test_acpt_values:\n",
    "    ppt.createDeck(ppt_name = 'FPF_Fraud_Defenses_MBR ' + str(datetime.now(timezone(\"America/New_York\")).strftime('%Y_%m_%d_%H')),\n",
    "    email_to = recipients,\n",
    "    email_from = dev_email,\n",
    "    email_subject = 'FPF_Fraud_Defenses_MBR ' + str(datetime.now(timezone(\"America/New_York\")).strftime('%Y_%m_%d_%H')),\n",
    "    ppt_attach = True)\n",
    "else:\n",
    "    pass"
   ]
  }
 ],
 "metadata": {
  "kernelspec": {
   "display_name": "Python 3",
   "language": "python",
   "name": "python3"
  },
  "language_info": {
   "codemirror_mode": {
    "name": "ipython",
    "version": 3
   },
   "file_extension": ".py",
   "mimetype": "text/x-python",
   "name": "python",
   "nbconvert_exporter": "python",
   "pygments_lexer": "ipython3",
   "version": "3.7.3"
  }
 },
 "nbformat": 4,
 "nbformat_minor": 2
}
