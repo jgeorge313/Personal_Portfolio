{
 "cells": [
  {
   "cell_type": "markdown",
   "metadata": {},
   "source": [
    "# Trigger Script\n",
    "\n",
    "The \"Trigger Script\" is the single script that compiles the slides created by scripts in the \"Graph Creation\" folder of this repository. \n",
    "\n",
    "Due to copyright reasons, the code has been largely modified and generalized so that code is vague and not revealing of corporate information. However, my hope is the logic and planned structure of the Capital One's First Party Fraud Monthly Business Report Repository is communicated.\n",
    "\n",
    "## Script Outline\n",
    "\n",
    "The script is organized as follows:\n",
    "\n",
    "        1.Set-Up (imports, connections, creating variables)\n",
    "        2.Slide Creation\n",
    "        3.Emailing the deliverable\n"
   ]
  },
  {
   "cell_type": "markdown",
   "metadata": {},
   "source": [
    "\n",
    "## Set-Up Explanation\n",
    "\n",
    "In order to successfully run this script there are a number of processes that must be done in order to connect to the data and run code. They are\n",
    "\n",
    "        Running the credentials file\n",
    "        Running utility scripts\n",
    "        Install the Capital One built package pptmaker\n",
    "        Importing packages\n",
    "        Creating useful variables"
   ]
  },
  {
   "cell_type": "code",
   "execution_count": 2,
   "metadata": {},
   "outputs": [
    {
     "name": "stderr",
     "output_type": "stream",
     "text": [
      "ERROR:root:File `'Users/[EID]/creds.py'` not found.\n"
     ]
    }
   ],
   "source": [
    "#Step 1, run credentials files to connect to Capital One's Data infrastructure\n",
    "%run \"Users/[EID]/creds\"\n",
    "\n",
    "#If you are cloning this repository you will have to change the above to speciy your EID"
   ]
  },
  {
   "cell_type": "code",
   "execution_count": null,
   "metadata": {},
   "outputs": [],
   "source": [
    "#Step 2, run helpful utility scripts that predefine functions used throughout the script\n",
    "%run \"./Utilities/fraud_helper_fx\""
   ]
  },
  {
   "cell_type": "code",
   "execution_count": null,
   "metadata": {},
   "outputs": [],
   "source": [
    "%run \"./Utilities/MBR_fx\""
   ]
  },
  {
   "cell_type": "code",
   "execution_count": null,
   "metadata": {},
   "outputs": [],
   "source": [
    "#Step 3, install Capital One internally created package that can create a .pptx file of graphs/tables\n",
    "dbutils.library.installPyPi(\"pptmaker\", repo='....')"
   ]
  },
  {
   "cell_type": "code",
   "execution_count": 2,
   "metadata": {},
   "outputs": [],
   "source": [
    "#Step 4, import packages and create helpful variables\n",
    "\n",
    "from pptmaker import pptMaker\n",
    "import pyspark.sql.functions as F\n",
    "from pyspark.sql import DataFrameStatFunctions as FS\n",
    "from pyspark.sql.functions import *\n",
    "from pyspark.sql.types import *\n",
    "import requests\n",
    "import pandas as pd\n",
    "import numpy as np\n",
    "from datetime import datetime, timedelta\n",
    "from dateutil.relativedelta import relativedelta\n",
    "import re\n",
    "import json\n",
    "import pytz\n",
    "import os.path\n",
    "from pytz import timezone\n",
    "\n",
    "#name developers and recipients -- change this if you are cloning the repository\n",
    "\n",
    "dev_email = ['joby.george@capitalone.com']\n",
    "recipients = ['joby.george@capitalone.com']\n",
    "\n",
    "#set timezone to EST \n",
    "tz = pytz.timezone('America/New_York')\n",
    "\n",
    "\n"
   ]
  },
  {
   "cell_type": "code",
   "execution_count": null,
   "metadata": {},
   "outputs": [],
   "source": [
    "#create useful date variables for monthly reporting\n",
    "today = pd.datetime.today()\n",
    "two_months = (datetime.today() + timedelta(days=60)).replace(day=1)\n",
    "one_month = (datetime.today() + timedelta(days=30)).replace(day=1)\n",
    "this_month = datetime.today().replace(day=1)\n",
    "one_month_ago = (datetime.today() + timedelta(days = -30))\n",
    "two_months_ago = datetime.today() + timedelta(days=-60)\n",
    "two_years_gao = this_month + relativedelta(years=-2)"
   ]
  },
  {
   "cell_type": "code",
   "execution_count": null,
   "metadata": {},
   "outputs": [],
   "source": [
    "#set up connection to snowflake so we can access productionized data\n",
    "snowflake_source_name = \"net.snowflake.spark.snowflake\"\n",
    "sfOptions = {\n",
    "    \"sfUrl\":\"...\",\n",
    "    \"sfUser\":username, #accessed from running creds file\n",
    "    \"sfPassword\":password,#accessed from running creds file\n",
    "    \"sfDatabase\":\"...\",\n",
    "    \"sfSchema\":\"USER_{}\".format(username),\n",
    "}\n",
    "\n",
    "Utils = spark.jvm.net.snowflake.spark.snowflake.Utils\n",
    "\n"
   ]
  },
  {
   "cell_type": "code",
   "execution_count": null,
   "metadata": {},
   "outputs": [],
   "source": [
    "#define the list of values that will result in the script sending out it's results (unit test)\n",
    "unit_test_acpt_values = ['Yes','YES','y', 'yup', '1', 'yes']"
   ]
  },
  {
   "cell_type": "code",
   "execution_count": null,
   "metadata": {},
   "outputs": [],
   "source": [
    "#create a powerpoint object that will generate slides in the following commands\n",
    "ppt = pptMaker.pptMaker()"
   ]
  },
  {
   "cell_type": "markdown",
   "metadata": {},
   "source": [
    "## Slide Creation\n",
    "\n",
    "The slide creation process starts with a title slide, highlighting the month of the report, and the author of the report (First Party Fraud Intent). \n",
    "\n",
    "From there we run the scripts that are in the graph creation folder.\n",
    "\n",
    "Note that this is just an example of the trigger script concept using three scripts. \n",
    "\n",
    "The First Party Fraud MBR repository runs 13 scripts, pulling from 4 folders rather than a singular folder called _Graph Creation_.\n",
    "\n",
    "The final output is a 50 slide powerpoint file that comprises the majority of the team's monthly reporting. From there, analysts have to add commentary on what the data are actually showing in the slides.\n",
    "\n",
    "The three scripts used to highlight the concept are:\n",
    "\n",
    "        Fraud Losses Graphs\n",
    "        Root Cause\n",
    "        Defense Performance\n",
    "        \n",
    "The three scripts answer pivotal questions for the team:\n",
    "\n",
    "        1. how has the KPI - fraud losses changed this month?\n",
    "        2. which tactics were driving the fraud losses?\n",
    "        3. how did the team's fraud defenses designed to mitigate fraud losses, perform?\n",
    "        \n",
    " ## The Unit Test Concept\n",
    "        \n",
    "A powerful feature of databricks is the ability to pass parameters when running a command [source](https://forums.databricks.com/questions/176/how-do-i-pass-argumentsvariables-to-notebooks.html).\n",
    " \n",
    "The main drawback of a trigger script concept is if the job errors out in one of the scripts. This can ultimately mean hours were spent letting code compile with no potential output. \n",
    "\n",
    "To alleviate the frustrations of having to redesign existing scripts if analysts want a single script's output, the unit_test parameter can be used. If **unit_test** is specified as a value in the _unit_test_acpt_values_ created two commands earlier, the if logic in our scripts will be true, causing a particular scripts output to be executed independently. \n",
    "        "
   ]
  },
  {
   "cell_type": "code",
   "execution_count": 14,
   "metadata": {},
   "outputs": [
    {
     "name": "stdout",
     "output_type": "stream",
     "text": [
      "First Party Fraud Monthly Business Report\n",
      "November 2020 Performance\n",
      "First Party Fraud Intent\n",
      "December 2020\n"
     ]
    }
   ],
   "source": [
    "#the slide should consist of the main text saying: First Party Fraud Monthly Business Report, last month's performance\n",
    "\n",
    "ts_main_text = 'First Party Fraud Monthly Business Report\\n{0} {1} Performance'.format(\n",
    "    one_month_ago.strftime('%B'), one_month_ago.strftime('%Y')\n",
    ")\n",
    "\n",
    "#the sub_text should detail the author, First Party Fraud Intent, and the current month\n",
    "ts_sub_text = \"\"\"First Party Fraud Intent\\n{} {}\"\"\".format(today.strftime('%B'), today.strftime('%Y')) \n",
    "\n",
    "#the following commands will validate the string is right\n",
    "#print(ts_main_text) \n",
    "#print(title_slide_sub_text)\n",
    "\n",
    "#create the title slide using the two strings and the createSlide() function\n",
    "ppt.createSlide(slide_name = ts_main_text, notes = ts_sub_Text)"
   ]
  },
  {
   "cell_type": "code",
   "execution_count": null,
   "metadata": {},
   "outputs": [],
   "source": [
    "%run \"./Graph_Creation/Fraud_Losses_Graphs\" $unit_test = 'no'"
   ]
  },
  {
   "cell_type": "code",
   "execution_count": null,
   "metadata": {},
   "outputs": [],
   "source": [
    "%run \"./Graph_Creation/Root_Cause\" $unit_test = 'no'"
   ]
  },
  {
   "cell_type": "code",
   "execution_count": null,
   "metadata": {},
   "outputs": [],
   "source": [
    "%run \"./Graph_Creation/Defense_Performance\" $unit_test = 'no'"
   ]
  },
  {
   "cell_type": "markdown",
   "metadata": {},
   "source": [
    "## Emailing the deliverable\n",
    "\n",
    "To send out the slides generated in the above scripts, all we have to do is run a single command. \n",
    "\n",
    "The command will email an attached version of a singular powerpoint file."
   ]
  },
  {
   "cell_type": "code",
   "execution_count": null,
   "metadata": {},
   "outputs": [],
   "source": [
    "#email the powerpoint\n",
    "ppt.createDeck(filename = 'First Party Fraud Monthly Business Report '+ str(datetime.now(timezone(\"America/New_York\")).strftime('%Y_%m_%d_%H_%M')),\n",
    "                email_to = recipients, #email recipients created in command 4\n",
    "                email_from = dev_email,\n",
    "                email_subject = 'First Party Fraud Monthly Business Report '+ str(datetime.now(timezone(\"America/New_York\")).strftime('%Y_%m_%d_%H_%M'),\n",
    "                ppt_attach = True)                                                                  \n"
   ]
  },
  {
   "cell_type": "code",
   "execution_count": null,
   "metadata": {},
   "outputs": [],
   "source": []
  }
 ],
 "metadata": {
  "kernelspec": {
   "display_name": "Python 3",
   "language": "python",
   "name": "python3"
  },
  "language_info": {
   "codemirror_mode": {
    "name": "ipython",
    "version": 3
   },
   "file_extension": ".py",
   "mimetype": "text/x-python",
   "name": "python",
   "nbconvert_exporter": "python",
   "pygments_lexer": "ipython3",
   "version": "3.7.3"
  }
 },
 "nbformat": 4,
 "nbformat_minor": 2
}
